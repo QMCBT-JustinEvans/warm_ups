{
 "cells": [
  {
   "cell_type": "markdown",
   "id": "ce02af96",
   "metadata": {},
   "source": [
    "* Write a program that returns a list that contains only the elements that are common between two lists (without duplicates). \n",
    "* Make sure your program works on two lists of different sizes."
   ]
  },
  {
   "cell_type": "code",
   "execution_count": 1,
   "id": "1d9ad259",
   "metadata": {},
   "outputs": [],
   "source": [
    "# Create Lists\n",
    "list_both = [1,'One',2,'Two',3,'Three',4,'Four',5,'Five',6,'Six',7,'Seven',8,'Eight',9,'Nine',10,'Ten']\n",
    "list_words = ['One','Two','Three','Four','Five','Six','Seven','Eight','Nine','Ten']\n",
    "list_numbers = [1,2,3,4,5,6,7,8,9,10]"
   ]
  },
  {
   "cell_type": "code",
   "execution_count": 18,
   "id": "edcad566",
   "metadata": {},
   "outputs": [
    {
     "data": {
      "text/plain": [
       "['Four', 'Five', 'Two', 'Ten', 'Three', 'Seven', 'Eight', 'One', 'Nine', 'Six']"
      ]
     },
     "execution_count": 18,
     "metadata": {},
     "output_type": "execute_result"
    }
   ],
   "source": [
    "# x for x Return Words\n",
    "answer = list(set([x for x in list_both if x in list_words]))\n",
    "answer"
   ]
  },
  {
   "cell_type": "code",
   "execution_count": 19,
   "id": "d6960173",
   "metadata": {},
   "outputs": [
    {
     "data": {
      "text/plain": [
       "[1, 2, 3, 4, 5, 6, 7, 8, 9, 10]"
      ]
     },
     "execution_count": 19,
     "metadata": {},
     "output_type": "execute_result"
    }
   ],
   "source": [
    "# x for x Return Numbers\n",
    "answer = list(set([x for x in list_both if x in list_numbers]))\n",
    "answer"
   ]
  },
  {
   "cell_type": "code",
   "execution_count": 9,
   "id": "91e1690d",
   "metadata": {},
   "outputs": [
    {
     "data": {
      "text/plain": [
       "{'Eight', 'Five', 'Four', 'Nine', 'One', 'Seven', 'Six', 'Ten', 'Three', 'Two'}"
      ]
     },
     "execution_count": 9,
     "metadata": {},
     "output_type": "execute_result"
    }
   ],
   "source": [
    "# Use .difference then flip it\n",
    "different = set(list_both).difference(list_words)\n",
    "set(list_both).difference(different)"
   ]
  },
  {
   "cell_type": "code",
   "execution_count": 17,
   "id": "79f91a88",
   "metadata": {},
   "outputs": [
    {
     "data": {
      "text/plain": [
       "{'Eight', 'Five', 'Four', 'Nine', 'One', 'Seven', 'Six', 'Ten', 'Three', 'Two'}"
      ]
     },
     "execution_count": 17,
     "metadata": {},
     "output_type": "execute_result"
    }
   ],
   "source": [
    "# Do the same thing using Sets\n",
    "same = set(list_both) - set(list_words)\n",
    "set(list_both) - set(same)"
   ]
  }
 ],
 "metadata": {
  "kernelspec": {
   "display_name": "Python 3 (ipykernel)",
   "language": "python",
   "name": "python3"
  },
  "language_info": {
   "codemirror_mode": {
    "name": "ipython",
    "version": 3
   },
   "file_extension": ".py",
   "mimetype": "text/x-python",
   "name": "python",
   "nbconvert_exporter": "python",
   "pygments_lexer": "ipython3",
   "version": "3.9.12"
  }
 },
 "nbformat": 4,
 "nbformat_minor": 5
}
