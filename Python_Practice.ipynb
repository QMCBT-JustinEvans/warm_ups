{
 "cells": [
  {
   "cell_type": "code",
   "execution_count": 3,
   "id": "24e7391c",
   "metadata": {},
   "outputs": [
    {
     "name": "stdout",
     "output_type": "stream",
     "text": [
      "\n"
     ]
    }
   ],
   "source": [
    "s = 'question'\n",
    "print(s[2:7:-1])"
   ]
  },
  {
   "cell_type": "code",
   "execution_count": 4,
   "id": "4ef38a2e",
   "metadata": {},
   "outputs": [
    {
     "name": "stdout",
     "output_type": "stream",
     "text": [
      "3Cheers2Allthere\n"
     ]
    }
   ],
   "source": [
    "s = '3cheers2allthere'\n",
    "print(s.title())"
   ]
  },
  {
   "cell_type": "code",
   "execution_count": 7,
   "id": "8078f347",
   "metadata": {},
   "outputs": [
    {
     "name": "stdout",
     "output_type": "stream",
     "text": [
      "2nd_high_current_salary.sql     pizza_sql_warmup_answers.sql\r\n",
      "Aamod_titles.sql                price_category.sql\r\n",
      "\u001b[34mHackerRank\u001b[m\u001b[m                      q_no-qu_lastname.sql\r\n",
      "Palindrome.ipynb                take_five.ipynb\r\n",
      "Python_Practice.ipynb           while_loop.ipynb\r\n",
      "average_grouped_dept_salary.sql wu_bouncy_ball.ipynb\r\n",
      "avg_current_dept_salary.sql     wu_bouncy_ball.py\r\n",
      "avg_std_salaries.sql            wu_santa_monica.sql\r\n",
      "compare_lists.ipynb             wu_sns_tips.ipynb\r\n",
      "current_female_managers.sql     wu_sns_tips2.ipynb\r\n",
      "last_name_buckets.sql           wu_world.ipynb\r\n",
      "lastname_count.sql              wu_world.sql\r\n"
     ]
    }
   ],
   "source": [
    "!ls"
   ]
  },
  {
   "cell_type": "code",
   "execution_count": 11,
   "id": "0206830e",
   "metadata": {},
   "outputs": [
    {
     "name": "stdout",
     "output_type": "stream",
     "text": [
      "<class 'list'>\n"
     ]
    }
   ],
   "source": [
    "import regex as r\n",
    "with open(r'three_star_unique_review_corpus.txt','r') as f:\n",
    "    \n",
    "    print(type(f.readlines()))"
   ]
  },
  {
   "cell_type": "code",
   "execution_count": 9,
   "id": "8f47c5cc",
   "metadata": {},
   "outputs": [
    {
     "name": "stdout",
     "output_type": "stream",
     "text": [
      "(4, 4)\n"
     ]
    }
   ],
   "source": [
    "t = (1,2,3,4,5)\n",
    "print(list(enumerate(t, start=1))[::-1][1])"
   ]
  },
  {
   "cell_type": "code",
   "execution_count": 1,
   "id": "ec5ec6a8",
   "metadata": {},
   "outputs": [
    {
     "name": "stdout",
     "output_type": "stream",
     "text": [
      "[5, 3]\n"
     ]
    }
   ],
   "source": [
    "lst = [1,2,3,4,5]\n",
    "print(lst[-1:0:-2])"
   ]
  },
  {
   "cell_type": "code",
   "execution_count": 1,
   "id": "adaf8db0",
   "metadata": {},
   "outputs": [
    {
     "name": "stdout",
     "output_type": "stream",
     "text": [
      "(8, 2, 5)\n"
     ]
    }
   ],
   "source": [
    "arr = [1,2,2,3,4,5,5,5,6,7,8,8,9]\n",
    "print(tuple(set([x for x in arr if arr.count(x)>1])))"
   ]
  },
  {
   "cell_type": "code",
   "execution_count": null,
   "id": "73314362",
   "metadata": {},
   "outputs": [],
   "source": []
  }
 ],
 "metadata": {
  "kernelspec": {
   "display_name": "Python 3 (ipykernel)",
   "language": "python",
   "name": "python3"
  },
  "language_info": {
   "codemirror_mode": {
    "name": "ipython",
    "version": 3
   },
   "file_extension": ".py",
   "mimetype": "text/x-python",
   "name": "python",
   "nbconvert_exporter": "python",
   "pygments_lexer": "ipython3",
   "version": "3.9.12"
  }
 },
 "nbformat": 4,
 "nbformat_minor": 5
}
