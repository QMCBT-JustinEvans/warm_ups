{
 "cells": [
  {
   "cell_type": "markdown",
   "id": "eefa524a",
   "metadata": {},
   "source": [
    "< 5\n",
    "== 5\n",
    "> 5\n"
   ]
  },
  {
   "cell_type": "code",
   "execution_count": 19,
   "id": "a96fa7d8",
   "metadata": {},
   "outputs": [],
   "source": [
    "def take_five(int):\n",
    " \n",
    "    if int == 5:\n",
    "        print('YOU GOT 5 ON IT!')\n",
    "        print('Your integer equals Five')\n",
    "    \n",
    "    elif int > 5:\n",
    "        print('HIGH 5!')\n",
    "        print('Your integer is greater than Five')\n",
    "    \n",
    "    elif int < 5:\n",
    "        print('DOWN LOW!')\n",
    "        print('Your integer is less than Five')\n",
    "        \n",
    "    else:\n",
    "        print('TOO SLOW!')\n",
    "        print('You did not imput an integer')        "
   ]
  },
  {
   "cell_type": "code",
   "execution_count": 20,
   "id": "3048b8ed",
   "metadata": {},
   "outputs": [
    {
     "name": "stdout",
     "output_type": "stream",
     "text": [
      "YOU GOT 5 ON IT!\n",
      "Your integer equals Five\n"
     ]
    }
   ],
   "source": [
    "take_five(5)"
   ]
  },
  {
   "cell_type": "code",
   "execution_count": 21,
   "id": "6baed02a",
   "metadata": {},
   "outputs": [
    {
     "name": "stdout",
     "output_type": "stream",
     "text": [
      "HIGH 5!\n",
      "Your integer is greater than Five\n"
     ]
    }
   ],
   "source": [
    "take_five(6)"
   ]
  },
  {
   "cell_type": "code",
   "execution_count": 22,
   "id": "8e5a476d",
   "metadata": {},
   "outputs": [
    {
     "name": "stdout",
     "output_type": "stream",
     "text": [
      "DOWN LOW!\n",
      "Your integer is less than Five\n"
     ]
    }
   ],
   "source": [
    "take_five(4)"
   ]
  },
  {
   "cell_type": "code",
   "execution_count": 23,
   "id": "35e3c2a4",
   "metadata": {},
   "outputs": [
    {
     "ename": "NameError",
     "evalue": "name 'DOG' is not defined",
     "output_type": "error",
     "traceback": [
      "\u001b[0;31m---------------------------------------------------------------------------\u001b[0m",
      "\u001b[0;31mNameError\u001b[0m                                 Traceback (most recent call last)",
      "Input \u001b[0;32mIn [23]\u001b[0m, in \u001b[0;36m<cell line: 1>\u001b[0;34m()\u001b[0m\n\u001b[0;32m----> 1\u001b[0m take_five(\u001b[43mDOG\u001b[49m)\n",
      "\u001b[0;31mNameError\u001b[0m: name 'DOG' is not defined"
     ]
    }
   ],
   "source": [
    "take_five(DOG)"
   ]
  },
  {
   "cell_type": "code",
   "execution_count": null,
   "id": "c8aa5024",
   "metadata": {},
   "outputs": [],
   "source": []
  }
 ],
 "metadata": {
  "kernelspec": {
   "display_name": "Python 3 (ipykernel)",
   "language": "python",
   "name": "python3"
  },
  "language_info": {
   "codemirror_mode": {
    "name": "ipython",
    "version": 3
   },
   "file_extension": ".py",
   "mimetype": "text/x-python",
   "name": "python",
   "nbconvert_exporter": "python",
   "pygments_lexer": "ipython3",
   "version": "3.9.12"
  }
 },
 "nbformat": 4,
 "nbformat_minor": 5
}
