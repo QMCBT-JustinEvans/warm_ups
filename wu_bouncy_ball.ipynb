{
 "cells": [
  {
   "cell_type": "markdown",
   "id": "b02ebe10",
   "metadata": {},
   "source": [
    "# Bouncy Ball Warmup:\n",
    "A ball is dropped and bounces.   \n",
    "At each rebound, the ball reaches half the height of the previous rebound.  \n",
    "How high must the ball be dropped so it reaches exactly the height h after the sixth rebound?  \n",
    "Write a .py script that accepts an integer from the user that represents the height of the ball after the sixth rebound.  \n",
    "\n",
    "Your .py script should print out the height that the ball must be drop at to reach the given height at the sixth rebound."
   ]
  },
  {
   "cell_type": "code",
   "execution_count": 1,
   "id": "a1284400",
   "metadata": {},
   "outputs": [
    {
     "name": "stdout",
     "output_type": "stream",
     "text": [
      "What height is the ball at: 12\n",
      "The ball started at height 768\n"
     ]
    }
   ],
   "source": [
    "height = int(input('What height is the ball at: '))\n",
    "\n",
    "starting_height = height * (2 ** 6)\n",
    "\n",
    "print(f'The ball started at height {starting_height}')"
   ]
  },
  {
   "cell_type": "code",
   "execution_count": null,
   "id": "865d1f92",
   "metadata": {},
   "outputs": [],
   "source": []
  }
 ],
 "metadata": {
  "kernelspec": {
   "display_name": "Python 3 (ipykernel)",
   "language": "python",
   "name": "python3"
  },
  "language_info": {
   "codemirror_mode": {
    "name": "ipython",
    "version": 3
   },
   "file_extension": ".py",
   "mimetype": "text/x-python",
   "name": "python",
   "nbconvert_exporter": "python",
   "pygments_lexer": "ipython3",
   "version": "3.9.12"
  }
 },
 "nbformat": 4,
 "nbformat_minor": 5
}
