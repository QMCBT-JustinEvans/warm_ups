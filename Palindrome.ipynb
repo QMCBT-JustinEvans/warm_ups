{
 "cells": [
  {
   "cell_type": "markdown",
   "id": "101e57ab",
   "metadata": {},
   "source": [
    "Write me a function that accepts a string that returns whether or not it is a:\n",
    "\n",
    "    Palindrome\n",
    "\n",
    "    A word, phrase, or sequence that reads the same backward \n",
    "    as  forward (e.g., madam or nurses run)."
   ]
  },
  {
   "cell_type": "markdown",
   "id": "1d32465c",
   "metadata": {},
   "source": [
    "### SIMPLE"
   ]
  },
  {
   "cell_type": "code",
   "execution_count": 12,
   "id": "42c27ad2",
   "metadata": {},
   "outputs": [],
   "source": [
    "def isPalindrome(word):\n",
    "    return word == word[::-1]"
   ]
  },
  {
   "cell_type": "code",
   "execution_count": 7,
   "id": "637c3793",
   "metadata": {},
   "outputs": [
    {
     "data": {
      "text/plain": [
       "True"
      ]
     },
     "execution_count": 7,
     "metadata": {},
     "output_type": "execute_result"
    }
   ],
   "source": [
    "isPalindrome('madam')"
   ]
  },
  {
   "cell_type": "code",
   "execution_count": 8,
   "id": "036e550a",
   "metadata": {},
   "outputs": [
    {
     "data": {
      "text/plain": [
       "False"
      ]
     },
     "execution_count": 8,
     "metadata": {},
     "output_type": "execute_result"
    }
   ],
   "source": [
    "isPalindrome('dog')"
   ]
  },
  {
   "cell_type": "code",
   "execution_count": 9,
   "id": "d6e3342f",
   "metadata": {},
   "outputs": [
    {
     "data": {
      "text/plain": [
       "True"
      ]
     },
     "execution_count": 9,
     "metadata": {},
     "output_type": "execute_result"
    }
   ],
   "source": [
    "isPalindrome('dog god')"
   ]
  },
  {
   "cell_type": "code",
   "execution_count": 10,
   "id": "2eb7d516",
   "metadata": {},
   "outputs": [
    {
     "data": {
      "text/plain": [
       "False"
      ]
     },
     "execution_count": 10,
     "metadata": {},
     "output_type": "execute_result"
    }
   ],
   "source": [
    "isPalindrome('nurses run')"
   ]
  },
  {
   "cell_type": "markdown",
   "id": "d43571a8",
   "metadata": {},
   "source": [
    "### INTERNAL FUNCTION"
   ]
  },
  {
   "cell_type": "code",
   "execution_count": 18,
   "id": "ec2bb0da",
   "metadata": {},
   "outputs": [],
   "source": [
    "# function to check string is\n",
    "# palindrome or not\n",
    "def isaPalindrome(s):\n",
    " \n",
    "    # Using predefined function to\n",
    "    # reverse to string print(s)\n",
    "    rev = ''.join(reversed(s))\n",
    "    rev = rev.replace(\" \", \"\")\n",
    "    s = s.replace(\" \", \"\")\n",
    "\n",
    "    \n",
    "    # Checking if both string are\n",
    "    # equal or not\n",
    "    if (s == rev):\n",
    "        return True\n",
    "    return False"
   ]
  },
  {
   "cell_type": "code",
   "execution_count": 19,
   "id": "46029cfd",
   "metadata": {
    "scrolled": true
   },
   "outputs": [
    {
     "data": {
      "text/plain": [
       "True"
      ]
     },
     "execution_count": 19,
     "metadata": {},
     "output_type": "execute_result"
    }
   ],
   "source": [
    "isaPalindrome('taco cat')"
   ]
  },
  {
   "cell_type": "code",
   "execution_count": 20,
   "id": "2738f3d2",
   "metadata": {
    "scrolled": true
   },
   "outputs": [
    {
     "data": {
      "text/plain": [
       "True"
      ]
     },
     "execution_count": 20,
     "metadata": {},
     "output_type": "execute_result"
    }
   ],
   "source": [
    "isaPalindrome('tacocat')"
   ]
  }
 ],
 "metadata": {
  "kernelspec": {
   "display_name": "Python 3 (ipykernel)",
   "language": "python",
   "name": "python3"
  },
  "language_info": {
   "codemirror_mode": {
    "name": "ipython",
    "version": 3
   },
   "file_extension": ".py",
   "mimetype": "text/x-python",
   "name": "python",
   "nbconvert_exporter": "python",
   "pygments_lexer": "ipython3",
   "version": "3.9.12"
  }
 },
 "nbformat": 4,
 "nbformat_minor": 5
}
